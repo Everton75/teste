{
 "cells": [
  {
   "cell_type": "code",
   "execution_count": 4,
   "metadata": {},
   "outputs": [],
   "source": [
    "import sqlite3\n",
    "\n",
    "# Cria a tabela 'users'\n",
    "con = sqlite3.connect(\"database.db\")\n",
    "#con.execute(\"CREATE TABLE users (id INTEGER PRIMARY KEY AUTOINCREMENT, name TEXT NOT NULL, password TEXT NOT NULL)\")\n",
    "\n",
    "# Define as variáveis\n",
    "name = \"Paulo2\"\n",
    "password = \"1234\"\n",
    "\n",
    "# Insere o registro\n",
    "cur = con.cursor()\n",
    "cur.execute(\"INSERT into users (name, password) values (?, ?)\", (name, password))\n",
    "con.commit()\n",
    "\n",
    "# Fecha o banco de dados\n",
    "con.close()"
   ]
  },
  {
   "cell_type": "code",
   "execution_count": 5,
   "metadata": {},
   "outputs": [
    {
     "name": "stdout",
     "output_type": "stream",
     "text": [
      "(1, 'Paulo', '123')\n",
      "(2, 'Paulo2', '1234')\n",
      "(3, 'Paulo2', '1234')\n"
     ]
    }
   ],
   "source": [
    "import sqlite3\n",
    "\n",
    "# Conecta-se ao banco de dados\n",
    "con = sqlite3.connect(\"database.db\")\n",
    "\n",
    "# Cria um cursor\n",
    "cur = con.cursor()\n",
    "\n",
    "# Lista todos os registros da tabela\n",
    "cur.execute(\"SELECT * FROM users\")\n",
    "\n",
    "# Imprime os registros\n",
    "for row in cur:\n",
    "    print(row)\n",
    "\n",
    "# Fecha o banco de dados\n",
    "con.close()"
   ]
  },
  {
   "cell_type": "code",
   "execution_count": 6,
   "metadata": {},
   "outputs": [
    {
     "name": "stdout",
     "output_type": "stream",
     "text": [
      "Package            Version\n",
      "------------------ -------\n",
      "asttokens          2.4.1\n",
      "comm               0.2.0\n",
      "debugpy            1.8.0\n",
      "decorator          5.1.1\n",
      "exceptiongroup     1.2.0\n",
      "executing          2.0.1\n",
      "importlib-metadata 6.8.0\n",
      "ipykernel          6.26.0\n",
      "ipython            8.18.1\n",
      "jedi               0.19.1\n",
      "jupyter_client     8.6.0\n",
      "jupyter_core       5.5.0\n",
      "matplotlib-inline  0.1.6\n",
      "nest-asyncio       1.5.8\n",
      "packaging          23.2\n",
      "parso              0.8.3\n",
      "pexpect            4.9.0\n",
      "pip                23.3.1\n",
      "platformdirs       4.0.0\n",
      "prompt-toolkit     3.0.41\n",
      "psutil             5.9.6\n",
      "ptyprocess         0.7.0\n",
      "pure-eval          0.2.2\n",
      "Pygments           2.17.2\n",
      "python-dateutil    2.8.2\n",
      "pyzmq              25.1.1\n",
      "setuptools         68.2.2\n",
      "six                1.16.0\n",
      "stack-data         0.6.3\n",
      "tornado            6.3.3\n",
      "traitlets          5.14.0\n",
      "typing_extensions  4.8.0\n",
      "wcwidth            0.2.12\n",
      "wheel              0.41.2\n",
      "zipp               3.17.0\n"
     ]
    }
   ],
   "source": [
    "!pip list"
   ]
  },
  {
   "cell_type": "code",
   "execution_count": 7,
   "metadata": {},
   "outputs": [
    {
     "name": "stdout",
     "output_type": "stream",
     "text": [
      "--version\n",
      "activate\n",
      "commands\n",
      "completions\n",
      "deactivate\n",
      "doctor\n",
      "exec\n",
      "global\n",
      "help\n",
      "hooks\n",
      "init\n",
      "install\n",
      "latest\n",
      "local\n",
      "prefix\n",
      "rehash\n",
      "root\n",
      "shell\n",
      "shims\n",
      "uninstall\n",
      "update\n",
      "version\n",
      "version-file\n",
      "version-file-read\n",
      "version-file-write\n",
      "version-name\n",
      "version-origin\n",
      "versions\n",
      "virtualenv\n",
      "virtualenv-delete\n",
      "virtualenv-init\n",
      "virtualenv-prefix\n",
      "virtualenvs\n",
      "whence\n",
      "which\n"
     ]
    }
   ],
   "source": [
    "!pyenv commands\n",
    "\n"
   ]
  },
  {
   "cell_type": "code",
   "execution_count": null,
   "metadata": {},
   "outputs": [],
   "source": []
  }
 ],
 "metadata": {
  "kernelspec": {
   "display_name": "project-aCZDqhBi",
   "language": "python",
   "name": "python3"
  },
  "language_info": {
   "codemirror_mode": {
    "name": "ipython",
    "version": 3
   },
   "file_extension": ".py",
   "mimetype": "text/x-python",
   "name": "python",
   "nbconvert_exporter": "python",
   "pygments_lexer": "ipython3",
   "version": "3.9.8"
  }
 },
 "nbformat": 4,
 "nbformat_minor": 2
}
